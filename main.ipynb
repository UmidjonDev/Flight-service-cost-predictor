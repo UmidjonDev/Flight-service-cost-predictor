{
 "cells": [
  {
   "cell_type": "markdown",
   "metadata": {},
   "source": [
    "This jupyter notebook contains the informations related to the task from Mohirdev platform\n",
    "\n",
    "    Predicting the prices of airplane tickets\n",
    "\n",
    "Author : Umidjon Sattorov. Student at Mohirdev platform"
   ]
  },
  {
   "cell_type": "markdown",
   "metadata": {},
   "source": [
    "    Data uploading and initial acquitance"
   ]
  },
  {
   "cell_type": "code",
   "execution_count": 124,
   "metadata": {},
   "outputs": [],
   "source": [
    "#Importing essential libraries\n",
    "import pandas as pd\n",
    "import numpy as np \n",
    "\n",
    "#Visualization \n",
    "import matplotlib.pyplot as plt\n",
    "import seaborn as sns \n",
    "\n",
    "#Machine learning algorithms, metrics and feature engineering tools \n",
    "from sklearn.model_selection import train_test_split\n",
    "from sklearn.metrics import mean_absolute_error, root_mean_squared_error, r2_score\n",
    "from sklearn.preprocessing import OneHotEncoder, StandardScaler\n",
    "from sklearn.neural_network import MLPRegressor\n",
    "import fastai \n",
    "from fastai.tabular.all import *\n",
    "\n",
    "#Preserving machine learning model\n",
    "import pickle as pkl"
   ]
  },
  {
   "cell_type": "code",
   "execution_count": 125,
   "metadata": {},
   "outputs": [
    {
     "data": {
      "text/html": [
       "<div>\n",
       "<style scoped>\n",
       "    .dataframe tbody tr th:only-of-type {\n",
       "        vertical-align: middle;\n",
       "    }\n",
       "\n",
       "    .dataframe tbody tr th {\n",
       "        vertical-align: top;\n",
       "    }\n",
       "\n",
       "    .dataframe thead th {\n",
       "        text-align: right;\n",
       "    }\n",
       "</style>\n",
       "<table border=\"1\" class=\"dataframe\">\n",
       "  <thead>\n",
       "    <tr style=\"text-align: right;\">\n",
       "      <th></th>\n",
       "      <th>airline</th>\n",
       "      <th>flight</th>\n",
       "      <th>source_city</th>\n",
       "      <th>departure_time</th>\n",
       "      <th>stops</th>\n",
       "      <th>arrival_time</th>\n",
       "      <th>destination_city</th>\n",
       "      <th>class</th>\n",
       "      <th>duration</th>\n",
       "      <th>days_left</th>\n",
       "      <th>price</th>\n",
       "    </tr>\n",
       "    <tr>\n",
       "      <th>id</th>\n",
       "      <th></th>\n",
       "      <th></th>\n",
       "      <th></th>\n",
       "      <th></th>\n",
       "      <th></th>\n",
       "      <th></th>\n",
       "      <th></th>\n",
       "      <th></th>\n",
       "      <th></th>\n",
       "      <th></th>\n",
       "      <th></th>\n",
       "    </tr>\n",
       "  </thead>\n",
       "  <tbody>\n",
       "    <tr>\n",
       "      <th>1</th>\n",
       "      <td>Vistara</td>\n",
       "      <td>UK-810</td>\n",
       "      <td>Bangalore</td>\n",
       "      <td>Early_Morning</td>\n",
       "      <td>one</td>\n",
       "      <td>Night</td>\n",
       "      <td>Mumbai</td>\n",
       "      <td>Economy</td>\n",
       "      <td>14.25</td>\n",
       "      <td>21</td>\n",
       "      <td>7212</td>\n",
       "    </tr>\n",
       "    <tr>\n",
       "      <th>2</th>\n",
       "      <td>SpiceJet</td>\n",
       "      <td>SG-5094</td>\n",
       "      <td>Hyderabad</td>\n",
       "      <td>Evening</td>\n",
       "      <td>zero</td>\n",
       "      <td>Night</td>\n",
       "      <td>Kolkata</td>\n",
       "      <td>Economy</td>\n",
       "      <td>1.75</td>\n",
       "      <td>7</td>\n",
       "      <td>5292</td>\n",
       "    </tr>\n",
       "    <tr>\n",
       "      <th>3</th>\n",
       "      <td>Vistara</td>\n",
       "      <td>UK-846</td>\n",
       "      <td>Bangalore</td>\n",
       "      <td>Morning</td>\n",
       "      <td>one</td>\n",
       "      <td>Evening</td>\n",
       "      <td>Delhi</td>\n",
       "      <td>Business</td>\n",
       "      <td>9.58</td>\n",
       "      <td>5</td>\n",
       "      <td>60553</td>\n",
       "    </tr>\n",
       "    <tr>\n",
       "      <th>4</th>\n",
       "      <td>Vistara</td>\n",
       "      <td>UK-706</td>\n",
       "      <td>Kolkata</td>\n",
       "      <td>Morning</td>\n",
       "      <td>one</td>\n",
       "      <td>Evening</td>\n",
       "      <td>Hyderabad</td>\n",
       "      <td>Economy</td>\n",
       "      <td>6.75</td>\n",
       "      <td>28</td>\n",
       "      <td>5760</td>\n",
       "    </tr>\n",
       "    <tr>\n",
       "      <th>5</th>\n",
       "      <td>Indigo</td>\n",
       "      <td>6E-5394</td>\n",
       "      <td>Chennai</td>\n",
       "      <td>Early_Morning</td>\n",
       "      <td>zero</td>\n",
       "      <td>Morning</td>\n",
       "      <td>Mumbai</td>\n",
       "      <td>Economy</td>\n",
       "      <td>2.00</td>\n",
       "      <td>4</td>\n",
       "      <td>10712</td>\n",
       "    </tr>\n",
       "  </tbody>\n",
       "</table>\n",
       "</div>"
      ],
      "text/plain": [
       "     airline   flight source_city departure_time stops arrival_time  \\\n",
       "id                                                                    \n",
       "1    Vistara   UK-810   Bangalore  Early_Morning   one        Night   \n",
       "2   SpiceJet  SG-5094   Hyderabad        Evening  zero        Night   \n",
       "3    Vistara   UK-846   Bangalore        Morning   one      Evening   \n",
       "4    Vistara   UK-706     Kolkata        Morning   one      Evening   \n",
       "5     Indigo  6E-5394     Chennai  Early_Morning  zero      Morning   \n",
       "\n",
       "   destination_city     class  duration  days_left  price  \n",
       "id                                                         \n",
       "1            Mumbai   Economy     14.25         21   7212  \n",
       "2           Kolkata   Economy      1.75          7   5292  \n",
       "3             Delhi  Business      9.58          5  60553  \n",
       "4         Hyderabad   Economy      6.75         28   5760  \n",
       "5            Mumbai   Economy      2.00          4  10712  "
      ]
     },
     "execution_count": 125,
     "metadata": {},
     "output_type": "execute_result"
    }
   ],
   "source": [
    "#Data uploading\n",
    "df = pd.read_csv(filepath_or_buffer = './data/train_data.csv', sep = \",\", index_col = 'id')\n",
    "df.head()"
   ]
  },
  {
   "cell_type": "markdown",
   "metadata": {},
   "source": [
    "Dataset information : \n",
    "\n",
    "1) Id = indentification number of customer\n",
    "2) Airline - travel organizator company\n",
    "3) flight - flight number\n",
    "4) source_city - departure city\n",
    "5) departure_time - the time for departure \n",
    "6) stop - the number of stops during commutation\n",
    "7) destination_city - arrival city\n",
    "8) arrival_time - the time of arrival\n",
    "9) price - the price of ticket\n",
    "10) class - the class of user who purchased particular ticket for travel\n",
    "11) days_left - when the airplane is going to come back home."
   ]
  },
  {
   "cell_type": "code",
   "execution_count": 126,
   "metadata": {},
   "outputs": [
    {
     "name": "stdout",
     "output_type": "stream",
     "text": [
      "The emptyness of given dataset :\n"
     ]
    },
    {
     "data": {
      "text/plain": [
       "airline             0\n",
       "flight              0\n",
       "source_city         0\n",
       "departure_time      0\n",
       "stops               0\n",
       "arrival_time        0\n",
       "destination_city    0\n",
       "class               0\n",
       "duration            0\n",
       "days_left           0\n",
       "price               0\n",
       "dtype: int64"
      ]
     },
     "execution_count": 126,
     "metadata": {},
     "output_type": "execute_result"
    }
   ],
   "source": [
    "#Checking the emptyness of given dataset\n",
    "print(\"The emptyness of given dataset :\")\n",
    "df.isna().sum()"
   ]
  },
  {
   "cell_type": "markdown",
   "metadata": {},
   "source": [
    "Conclusion : So far, we have tested the number of Nan values for each column of the dataset. It seems like there is not any empty values in the given dataset(So I don't have to worry about such problem anymore)."
   ]
  },
  {
   "cell_type": "code",
   "execution_count": 127,
   "metadata": {},
   "outputs": [
    {
     "name": "stdout",
     "output_type": "stream",
     "text": [
      "The column airline contains : 6 values\n",
      "The column flight contains : 1310 values\n",
      "The column source_city contains : 6 values\n",
      "The column departure_time contains : 6 values\n",
      "The column stops contains : 3 values\n",
      "The column arrival_time contains : 6 values\n",
      "The column destination_city contains : 6 values\n",
      "The column class contains : 2 values\n",
      "The column duration contains : 404 values\n",
      "The column days_left contains : 49 values\n",
      "The column price contains : 4420 values\n"
     ]
    }
   ],
   "source": [
    "#Checking the number of unique values for each column of the dataset\n",
    "for i in df.columns :\n",
    "    print(f\"The column {i} contains : {df[i].nunique()} values\")"
   ]
  },
  {
   "cell_type": "code",
   "execution_count": 128,
   "metadata": {},
   "outputs": [],
   "source": [
    "#Reducing the number of unique value in the column named 'flight' to save computing resources\n",
    "df['flight'] = df['flight'].apply(lambda x : x[0 : 2])"
   ]
  },
  {
   "cell_type": "code",
   "execution_count": 129,
   "metadata": {},
   "outputs": [
    {
     "name": "stdout",
     "output_type": "stream",
     "text": [
      "The column airline contains : 6 values\n",
      "The column flight contains : 6 values\n",
      "The column source_city contains : 6 values\n",
      "The column departure_time contains : 6 values\n",
      "The column stops contains : 3 values\n",
      "The column arrival_time contains : 6 values\n",
      "The column destination_city contains : 6 values\n",
      "The column class contains : 2 values\n",
      "The column duration contains : 404 values\n",
      "The column days_left contains : 49 values\n",
      "The column price contains : 4420 values\n"
     ]
    }
   ],
   "source": [
    "#Checking the number of unique values for each column of the dataset\n",
    "for i in df.columns :\n",
    "    print(f\"The column {i} contains : {df[i].nunique()} values\")"
   ]
  },
  {
   "cell_type": "code",
   "execution_count": 130,
   "metadata": {},
   "outputs": [
    {
     "data": {
      "text/plain": [
       "stops\n",
       "one            16666\n",
       "zero            2440\n",
       "two_or_more      894\n",
       "Name: count, dtype: int64"
      ]
     },
     "execution_count": 130,
     "metadata": {},
     "output_type": "execute_result"
    }
   ],
   "source": [
    "df['stops'].value_counts()"
   ]
  },
  {
   "cell_type": "code",
   "execution_count": 131,
   "metadata": {},
   "outputs": [
    {
     "data": {
      "text/plain": [
       "stops\n",
       "1    16666\n",
       "0     2440\n",
       "2      894\n",
       "Name: count, dtype: int64"
      ]
     },
     "execution_count": 131,
     "metadata": {},
     "output_type": "execute_result"
    }
   ],
   "source": [
    "df['stops'] = df['stops'].apply(lambda x : 0 if (x == 'zero') else 1 if (x == 'one') else 2)\n",
    "df['stops'].value_counts()"
   ]
  },
  {
   "cell_type": "code",
   "execution_count": 133,
   "metadata": {},
   "outputs": [
    {
     "name": "stdout",
     "output_type": "stream",
     "text": [
      "File has been saved successfully\n"
     ]
    }
   ],
   "source": [
    "#Saving analysis ready dataset\n",
    "df.to_csv('./data/analysis_ready_dataset.csv', index = False)\n",
    "print(\"File has been saved successfully\")"
   ]
  },
  {
   "cell_type": "markdown",
   "metadata": {},
   "source": [
    "    Data analysis and data preparation stage"
   ]
  },
  {
   "cell_type": "code",
   "execution_count": 134,
   "metadata": {},
   "outputs": [
    {
     "data": {
      "text/html": [
       "<div>\n",
       "<style scoped>\n",
       "    .dataframe tbody tr th:only-of-type {\n",
       "        vertical-align: middle;\n",
       "    }\n",
       "\n",
       "    .dataframe tbody tr th {\n",
       "        vertical-align: top;\n",
       "    }\n",
       "\n",
       "    .dataframe thead th {\n",
       "        text-align: right;\n",
       "    }\n",
       "</style>\n",
       "<table border=\"1\" class=\"dataframe\">\n",
       "  <thead>\n",
       "    <tr style=\"text-align: right;\">\n",
       "      <th></th>\n",
       "      <th>stops</th>\n",
       "      <th>duration</th>\n",
       "      <th>days_left</th>\n",
       "      <th>price</th>\n",
       "    </tr>\n",
       "  </thead>\n",
       "  <tbody>\n",
       "    <tr>\n",
       "      <th>stops</th>\n",
       "      <td>1.000000</td>\n",
       "      <td>0.470493</td>\n",
       "      <td>0.003238</td>\n",
       "      <td>0.121455</td>\n",
       "    </tr>\n",
       "    <tr>\n",
       "      <th>duration</th>\n",
       "      <td>0.470493</td>\n",
       "      <td>1.000000</td>\n",
       "      <td>-0.020091</td>\n",
       "      <td>0.213158</td>\n",
       "    </tr>\n",
       "    <tr>\n",
       "      <th>days_left</th>\n",
       "      <td>0.003238</td>\n",
       "      <td>-0.020091</td>\n",
       "      <td>1.000000</td>\n",
       "      <td>-0.102545</td>\n",
       "    </tr>\n",
       "    <tr>\n",
       "      <th>price</th>\n",
       "      <td>0.121455</td>\n",
       "      <td>0.213158</td>\n",
       "      <td>-0.102545</td>\n",
       "      <td>1.000000</td>\n",
       "    </tr>\n",
       "  </tbody>\n",
       "</table>\n",
       "</div>"
      ],
      "text/plain": [
       "              stops  duration  days_left     price\n",
       "stops      1.000000  0.470493   0.003238  0.121455\n",
       "duration   0.470493  1.000000  -0.020091  0.213158\n",
       "days_left  0.003238 -0.020091   1.000000 -0.102545\n",
       "price      0.121455  0.213158  -0.102545  1.000000"
      ]
     },
     "execution_count": 134,
     "metadata": {},
     "output_type": "execute_result"
    }
   ],
   "source": [
    "#Checking the correlation between numerical values and our target column\n",
    "corr = df[['stops', 'duration', 'days_left', 'price']].corr()\n",
    "corr"
   ]
  },
  {
   "cell_type": "markdown",
   "metadata": {},
   "source": [
    "    Feature engineering \n",
    "\n",
    "For this problem, I am going to use one hot encoder, label encoder and hash encoders for categorical features. For numerical features, I am going to use Standart Normalizer(or MinMax normalizer - that really depends)"
   ]
  },
  {
   "cell_type": "code",
   "execution_count": 135,
   "metadata": {},
   "outputs": [
    {
     "data": {
      "text/html": [
       "<div>\n",
       "<style scoped>\n",
       "    .dataframe tbody tr th:only-of-type {\n",
       "        vertical-align: middle;\n",
       "    }\n",
       "\n",
       "    .dataframe tbody tr th {\n",
       "        vertical-align: top;\n",
       "    }\n",
       "\n",
       "    .dataframe thead th {\n",
       "        text-align: right;\n",
       "    }\n",
       "</style>\n",
       "<table border=\"1\" class=\"dataframe\">\n",
       "  <thead>\n",
       "    <tr style=\"text-align: right;\">\n",
       "      <th></th>\n",
       "      <th>stops</th>\n",
       "      <th>airline_AirAsia</th>\n",
       "      <th>airline_Air_India</th>\n",
       "      <th>airline_GO_FIRST</th>\n",
       "      <th>airline_Indigo</th>\n",
       "      <th>airline_SpiceJet</th>\n",
       "      <th>airline_Vistara</th>\n",
       "      <th>source_city_Bangalore</th>\n",
       "      <th>source_city_Chennai</th>\n",
       "      <th>source_city_Delhi</th>\n",
       "      <th>...</th>\n",
       "      <th>class_Economy</th>\n",
       "      <th>flight_6E</th>\n",
       "      <th>flight_AI</th>\n",
       "      <th>flight_G8</th>\n",
       "      <th>flight_I5</th>\n",
       "      <th>flight_SG</th>\n",
       "      <th>flight_UK</th>\n",
       "      <th>duration_std</th>\n",
       "      <th>days_left_std</th>\n",
       "      <th>price_std</th>\n",
       "    </tr>\n",
       "    <tr>\n",
       "      <th>id</th>\n",
       "      <th></th>\n",
       "      <th></th>\n",
       "      <th></th>\n",
       "      <th></th>\n",
       "      <th></th>\n",
       "      <th></th>\n",
       "      <th></th>\n",
       "      <th></th>\n",
       "      <th></th>\n",
       "      <th></th>\n",
       "      <th></th>\n",
       "      <th></th>\n",
       "      <th></th>\n",
       "      <th></th>\n",
       "      <th></th>\n",
       "      <th></th>\n",
       "      <th></th>\n",
       "      <th></th>\n",
       "      <th></th>\n",
       "      <th></th>\n",
       "      <th></th>\n",
       "    </tr>\n",
       "  </thead>\n",
       "  <tbody>\n",
       "    <tr>\n",
       "      <th>1</th>\n",
       "      <td>1</td>\n",
       "      <td>0.0</td>\n",
       "      <td>0.0</td>\n",
       "      <td>0.0</td>\n",
       "      <td>0.0</td>\n",
       "      <td>0.0</td>\n",
       "      <td>1.0</td>\n",
       "      <td>1.0</td>\n",
       "      <td>0.0</td>\n",
       "      <td>0.0</td>\n",
       "      <td>...</td>\n",
       "      <td>1.0</td>\n",
       "      <td>0.0</td>\n",
       "      <td>0.0</td>\n",
       "      <td>0.0</td>\n",
       "      <td>0.0</td>\n",
       "      <td>0.0</td>\n",
       "      <td>1.0</td>\n",
       "      <td>0.289528</td>\n",
       "      <td>-0.361418</td>\n",
       "      <td>-0.603660</td>\n",
       "    </tr>\n",
       "    <tr>\n",
       "      <th>2</th>\n",
       "      <td>0</td>\n",
       "      <td>0.0</td>\n",
       "      <td>0.0</td>\n",
       "      <td>0.0</td>\n",
       "      <td>0.0</td>\n",
       "      <td>1.0</td>\n",
       "      <td>0.0</td>\n",
       "      <td>0.0</td>\n",
       "      <td>0.0</td>\n",
       "      <td>0.0</td>\n",
       "      <td>...</td>\n",
       "      <td>1.0</td>\n",
       "      <td>0.0</td>\n",
       "      <td>0.0</td>\n",
       "      <td>0.0</td>\n",
       "      <td>0.0</td>\n",
       "      <td>1.0</td>\n",
       "      <td>0.0</td>\n",
       "      <td>-1.456827</td>\n",
       "      <td>-1.388976</td>\n",
       "      <td>-0.687963</td>\n",
       "    </tr>\n",
       "    <tr>\n",
       "      <th>3</th>\n",
       "      <td>1</td>\n",
       "      <td>0.0</td>\n",
       "      <td>0.0</td>\n",
       "      <td>0.0</td>\n",
       "      <td>0.0</td>\n",
       "      <td>0.0</td>\n",
       "      <td>1.0</td>\n",
       "      <td>1.0</td>\n",
       "      <td>0.0</td>\n",
       "      <td>0.0</td>\n",
       "      <td>...</td>\n",
       "      <td>0.0</td>\n",
       "      <td>0.0</td>\n",
       "      <td>0.0</td>\n",
       "      <td>0.0</td>\n",
       "      <td>0.0</td>\n",
       "      <td>0.0</td>\n",
       "      <td>1.0</td>\n",
       "      <td>-0.362910</td>\n",
       "      <td>-1.535770</td>\n",
       "      <td>1.738437</td>\n",
       "    </tr>\n",
       "    <tr>\n",
       "      <th>4</th>\n",
       "      <td>1</td>\n",
       "      <td>0.0</td>\n",
       "      <td>0.0</td>\n",
       "      <td>0.0</td>\n",
       "      <td>0.0</td>\n",
       "      <td>0.0</td>\n",
       "      <td>1.0</td>\n",
       "      <td>0.0</td>\n",
       "      <td>0.0</td>\n",
       "      <td>0.0</td>\n",
       "      <td>...</td>\n",
       "      <td>1.0</td>\n",
       "      <td>0.0</td>\n",
       "      <td>0.0</td>\n",
       "      <td>0.0</td>\n",
       "      <td>0.0</td>\n",
       "      <td>0.0</td>\n",
       "      <td>1.0</td>\n",
       "      <td>-0.758285</td>\n",
       "      <td>0.152361</td>\n",
       "      <td>-0.667414</td>\n",
       "    </tr>\n",
       "    <tr>\n",
       "      <th>5</th>\n",
       "      <td>0</td>\n",
       "      <td>0.0</td>\n",
       "      <td>0.0</td>\n",
       "      <td>0.0</td>\n",
       "      <td>1.0</td>\n",
       "      <td>0.0</td>\n",
       "      <td>0.0</td>\n",
       "      <td>0.0</td>\n",
       "      <td>1.0</td>\n",
       "      <td>0.0</td>\n",
       "      <td>...</td>\n",
       "      <td>1.0</td>\n",
       "      <td>1.0</td>\n",
       "      <td>0.0</td>\n",
       "      <td>0.0</td>\n",
       "      <td>0.0</td>\n",
       "      <td>0.0</td>\n",
       "      <td>0.0</td>\n",
       "      <td>-1.421900</td>\n",
       "      <td>-1.609167</td>\n",
       "      <td>-0.449982</td>\n",
       "    </tr>\n",
       "  </tbody>\n",
       "</table>\n",
       "<p>5 rows × 42 columns</p>\n",
       "</div>"
      ],
      "text/plain": [
       "    stops  airline_AirAsia  airline_Air_India  airline_GO_FIRST  \\\n",
       "id                                                                \n",
       "1       1              0.0                0.0               0.0   \n",
       "2       0              0.0                0.0               0.0   \n",
       "3       1              0.0                0.0               0.0   \n",
       "4       1              0.0                0.0               0.0   \n",
       "5       0              0.0                0.0               0.0   \n",
       "\n",
       "    airline_Indigo  airline_SpiceJet  airline_Vistara  source_city_Bangalore  \\\n",
       "id                                                                             \n",
       "1              0.0               0.0              1.0                    1.0   \n",
       "2              0.0               1.0              0.0                    0.0   \n",
       "3              0.0               0.0              1.0                    1.0   \n",
       "4              0.0               0.0              1.0                    0.0   \n",
       "5              1.0               0.0              0.0                    0.0   \n",
       "\n",
       "    source_city_Chennai  source_city_Delhi  ...  class_Economy  flight_6E  \\\n",
       "id                                          ...                             \n",
       "1                   0.0                0.0  ...            1.0        0.0   \n",
       "2                   0.0                0.0  ...            1.0        0.0   \n",
       "3                   0.0                0.0  ...            0.0        0.0   \n",
       "4                   0.0                0.0  ...            1.0        0.0   \n",
       "5                   1.0                0.0  ...            1.0        1.0   \n",
       "\n",
       "    flight_AI  flight_G8  flight_I5  flight_SG  flight_UK  duration_std  \\\n",
       "id                                                                        \n",
       "1         0.0        0.0        0.0        0.0        1.0      0.289528   \n",
       "2         0.0        0.0        0.0        1.0        0.0     -1.456827   \n",
       "3         0.0        0.0        0.0        0.0        1.0     -0.362910   \n",
       "4         0.0        0.0        0.0        0.0        1.0     -0.758285   \n",
       "5         0.0        0.0        0.0        0.0        0.0     -1.421900   \n",
       "\n",
       "    days_left_std  price_std  \n",
       "id                            \n",
       "1       -0.361418  -0.603660  \n",
       "2       -1.388976  -0.687963  \n",
       "3       -1.535770   1.738437  \n",
       "4        0.152361  -0.667414  \n",
       "5       -1.609167  -0.449982  \n",
       "\n",
       "[5 rows x 42 columns]"
      ]
     },
     "execution_count": 135,
     "metadata": {},
     "output_type": "execute_result"
    }
   ],
   "source": [
    "ohe_cols = ['airline', 'source_city', 'departure_time', 'arrival_time', 'destination_city', 'class', 'flight']\n",
    "std_scaler = ['duration', 'days_left', 'price']\n",
    "\n",
    "#One Hot encoding\n",
    "ohe = OneHotEncoder(sparse_output = False)\n",
    "ohe_data = ohe.fit_transform(df[ohe_cols])\n",
    "df[ohe.get_feature_names_out()] = ohe_data\n",
    "\n",
    "#Standart scaler\n",
    "std_scl = StandardScaler()\n",
    "std_scaled = std_scl.fit_transform(df[std_scaler])\n",
    "std_scaled_cols = [x + '_std' for x in std_scaler]\n",
    "df[std_scaled_cols] = std_scaled\n",
    "\n",
    "df.drop(columns = ohe_cols + std_scaler, inplace = True)\n",
    "df.head()"
   ]
  },
  {
   "cell_type": "code",
   "execution_count": 136,
   "metadata": {},
   "outputs": [
    {
     "name": "stdout",
     "output_type": "stream",
     "text": [
      "Dataset for training machine learning algorithm is preserved successfully !\n"
     ]
    }
   ],
   "source": [
    "df.to_csv(path_or_buf = './data/train_ready.csv', sep = ',')\n",
    "print(\"Dataset for training machine learning algorithm is preserved successfully !\")"
   ]
  },
  {
   "cell_type": "markdown",
   "metadata": {},
   "source": [
    "    Modelling"
   ]
  },
  {
   "cell_type": "markdown",
   "metadata": {},
   "source": [
    "For making model I am going to try four algorithms : MLP multilayer perceptron, logistic regression and tabular learner from fastai. Model performance is measured using accuracy score."
   ]
  },
  {
   "cell_type": "code",
   "execution_count": 137,
   "metadata": {},
   "outputs": [],
   "source": [
    "#Data loading and separating into train, test features\n",
    "model_data = pd.read_csv(filepath_or_buffer = './data/train_ready.csv', sep = ',')\n",
    "x = model_data.drop(columns = 'price_std')\n",
    "y = model_data['price_std']\n",
    "\n",
    "x_train, x_test, y_train, y_test = train_test_split(x, y, test_size = 0.2, random_state = 42)\n",
    "\n",
    "#Teaching model using MLPRegression \n",
    "mlp_reg = MLPRegressor(random_state = 1, max_iter = 1000).fit(x_train, y_train)"
   ]
  },
  {
   "cell_type": "code",
   "execution_count": 138,
   "metadata": {},
   "outputs": [
    {
     "name": "stdout",
     "output_type": "stream",
     "text": [
      "Mean absolute error of MLP regression in test dataset is 0.4738381339638545\n"
     ]
    }
   ],
   "source": [
    "pred_test = mlp_reg.predict(X = x_test)\n",
    "\n",
    "print(f\"Mean absolute error of MLP regression in test dataset is {mean_absolute_error(y_true = y_test, y_pred = pred_test)}\")"
   ]
  },
  {
   "cell_type": "code",
   "execution_count": 121,
   "metadata": {},
   "outputs": [
    {
     "name": "stdout",
     "output_type": "stream",
     "text": [
      "Model saved successfully!\n"
     ]
    }
   ],
   "source": [
    "#Saving machine learning models into pickle format\n",
    "pkl.dump(mlp_reg, open('./models/mlp_reg_relu.pkl', 'wb'))\n",
    "print(\"Model saved successfully!\")"
   ]
  },
  {
   "cell_type": "code",
   "execution_count": 122,
   "metadata": {},
   "outputs": [
    {
     "name": "stdout",
     "output_type": "stream",
     "text": [
      "Mean absolute error of MLP regression(logistic) in test dataset is 0.8745774846187149\n"
     ]
    }
   ],
   "source": [
    "#Logistic regression with MLP\n",
    "mlp_reg_log = MLPRegressor(random_state = 42, max_iter = 1000, activation = 'logistic').fit(X = x_train, y = y_train)\n",
    "pred_test = mlp_reg_log.predict(X = x_test)\n",
    "print(f\"Mean absolute error of MLP regression(logistic) in test dataset is {mean_absolute_error(y_true = y_test, y_pred = pred_test)}\")"
   ]
  },
  {
   "cell_type": "markdown",
   "metadata": {},
   "source": [
    "Well it is better to preserve mlp model with relu activation instead of logistic."
   ]
  },
  {
   "cell_type": "code",
   "execution_count": 139,
   "metadata": {},
   "outputs": [
    {
     "data": {
      "text/html": [
       "<div>\n",
       "<style scoped>\n",
       "    .dataframe tbody tr th:only-of-type {\n",
       "        vertical-align: middle;\n",
       "    }\n",
       "\n",
       "    .dataframe tbody tr th {\n",
       "        vertical-align: top;\n",
       "    }\n",
       "\n",
       "    .dataframe thead th {\n",
       "        text-align: right;\n",
       "    }\n",
       "</style>\n",
       "<table border=\"1\" class=\"dataframe\">\n",
       "  <thead>\n",
       "    <tr style=\"text-align: right;\">\n",
       "      <th></th>\n",
       "      <th>airline</th>\n",
       "      <th>flight</th>\n",
       "      <th>source_city</th>\n",
       "      <th>departure_time</th>\n",
       "      <th>stops</th>\n",
       "      <th>arrival_time</th>\n",
       "      <th>destination_city</th>\n",
       "      <th>class</th>\n",
       "      <th>duration</th>\n",
       "      <th>days_left</th>\n",
       "      <th>price</th>\n",
       "    </tr>\n",
       "  </thead>\n",
       "  <tbody>\n",
       "    <tr>\n",
       "      <th>0</th>\n",
       "      <td>Vistara</td>\n",
       "      <td>UK</td>\n",
       "      <td>Bangalore</td>\n",
       "      <td>Early_Morning</td>\n",
       "      <td>1</td>\n",
       "      <td>Night</td>\n",
       "      <td>Mumbai</td>\n",
       "      <td>Economy</td>\n",
       "      <td>14.25</td>\n",
       "      <td>21</td>\n",
       "      <td>7212</td>\n",
       "    </tr>\n",
       "    <tr>\n",
       "      <th>1</th>\n",
       "      <td>SpiceJet</td>\n",
       "      <td>SG</td>\n",
       "      <td>Hyderabad</td>\n",
       "      <td>Evening</td>\n",
       "      <td>0</td>\n",
       "      <td>Night</td>\n",
       "      <td>Kolkata</td>\n",
       "      <td>Economy</td>\n",
       "      <td>1.75</td>\n",
       "      <td>7</td>\n",
       "      <td>5292</td>\n",
       "    </tr>\n",
       "    <tr>\n",
       "      <th>2</th>\n",
       "      <td>Vistara</td>\n",
       "      <td>UK</td>\n",
       "      <td>Bangalore</td>\n",
       "      <td>Morning</td>\n",
       "      <td>1</td>\n",
       "      <td>Evening</td>\n",
       "      <td>Delhi</td>\n",
       "      <td>Business</td>\n",
       "      <td>9.58</td>\n",
       "      <td>5</td>\n",
       "      <td>60553</td>\n",
       "    </tr>\n",
       "    <tr>\n",
       "      <th>3</th>\n",
       "      <td>Vistara</td>\n",
       "      <td>UK</td>\n",
       "      <td>Kolkata</td>\n",
       "      <td>Morning</td>\n",
       "      <td>1</td>\n",
       "      <td>Evening</td>\n",
       "      <td>Hyderabad</td>\n",
       "      <td>Economy</td>\n",
       "      <td>6.75</td>\n",
       "      <td>28</td>\n",
       "      <td>5760</td>\n",
       "    </tr>\n",
       "    <tr>\n",
       "      <th>4</th>\n",
       "      <td>Indigo</td>\n",
       "      <td>6E</td>\n",
       "      <td>Chennai</td>\n",
       "      <td>Early_Morning</td>\n",
       "      <td>0</td>\n",
       "      <td>Morning</td>\n",
       "      <td>Mumbai</td>\n",
       "      <td>Economy</td>\n",
       "      <td>2.00</td>\n",
       "      <td>4</td>\n",
       "      <td>10712</td>\n",
       "    </tr>\n",
       "  </tbody>\n",
       "</table>\n",
       "</div>"
      ],
      "text/plain": [
       "    airline flight source_city departure_time  stops arrival_time  \\\n",
       "0   Vistara     UK   Bangalore  Early_Morning      1        Night   \n",
       "1  SpiceJet     SG   Hyderabad        Evening      0        Night   \n",
       "2   Vistara     UK   Bangalore        Morning      1      Evening   \n",
       "3   Vistara     UK     Kolkata        Morning      1      Evening   \n",
       "4    Indigo     6E     Chennai  Early_Morning      0      Morning   \n",
       "\n",
       "  destination_city     class  duration  days_left  price  \n",
       "0           Mumbai   Economy     14.25         21   7212  \n",
       "1          Kolkata   Economy      1.75          7   5292  \n",
       "2            Delhi  Business      9.58          5  60553  \n",
       "3        Hyderabad   Economy      6.75         28   5760  \n",
       "4           Mumbai   Economy      2.00          4  10712  "
      ]
     },
     "execution_count": 139,
     "metadata": {},
     "output_type": "execute_result"
    }
   ],
   "source": [
    "df_fastai = pd.read_csv(filepath_or_buffer = './data/analysis_ready_dataset.csv', sep = ',')\n",
    "df_fastai.head()"
   ]
  },
  {
   "cell_type": "code",
   "execution_count": 149,
   "metadata": {},
   "outputs": [
    {
     "data": {
      "text/plain": [
       "['stops', 'duration', 'days_left', 'price']"
      ]
     },
     "execution_count": 149,
     "metadata": {},
     "output_type": "execute_result"
    }
   ],
   "source": [
    "df_fastai.dtypes[(df_fastai.dtypes == 'int64') | (df_fastai.dtypes == 'float')].index.to_list()"
   ]
  },
  {
   "cell_type": "code",
   "execution_count": 152,
   "metadata": {},
   "outputs": [
    {
     "data": {
      "text/html": [
       "\n",
       "<style>\n",
       "    /* Turns off some styling */\n",
       "    progress {\n",
       "        /* gets rid of default border in Firefox and Opera. */\n",
       "        border: none;\n",
       "        /* Needs to be in here for Safari polyfill so background images work as expected. */\n",
       "        background-size: auto;\n",
       "    }\n",
       "    progress:not([value]), progress:not([value])::-webkit-progress-bar {\n",
       "        background: repeating-linear-gradient(45deg, #7e7e7e, #7e7e7e 10px, #5c5c5c 10px, #5c5c5c 20px);\n",
       "    }\n",
       "    .progress-bar-interrupted, .progress-bar-interrupted::-webkit-progress-bar {\n",
       "        background: #F44336;\n",
       "    }\n",
       "</style>\n"
      ],
      "text/plain": [
       "<IPython.core.display.HTML object>"
      ]
     },
     "metadata": {},
     "output_type": "display_data"
    },
    {
     "data": {
      "text/html": [
       "<table border=\"1\" class=\"dataframe\">\n",
       "  <thead>\n",
       "    <tr style=\"text-align: left;\">\n",
       "      <th>epoch</th>\n",
       "      <th>train_loss</th>\n",
       "      <th>valid_loss</th>\n",
       "      <th>mae</th>\n",
       "      <th>time</th>\n",
       "    </tr>\n",
       "  </thead>\n",
       "  <tbody>\n",
       "    <tr>\n",
       "      <td>0</td>\n",
       "      <td>0.082723</td>\n",
       "      <td>0.021034</td>\n",
       "      <td>0.126233</td>\n",
       "      <td>00:06</td>\n",
       "    </tr>\n",
       "    <tr>\n",
       "      <td>1</td>\n",
       "      <td>0.090916</td>\n",
       "      <td>0.021687</td>\n",
       "      <td>0.128831</td>\n",
       "      <td>00:05</td>\n",
       "    </tr>\n",
       "    <tr>\n",
       "      <td>2</td>\n",
       "      <td>0.093414</td>\n",
       "      <td>0.022729</td>\n",
       "      <td>0.101589</td>\n",
       "      <td>00:05</td>\n",
       "    </tr>\n",
       "    <tr>\n",
       "      <td>3</td>\n",
       "      <td>0.065214</td>\n",
       "      <td>0.026711</td>\n",
       "      <td>0.112767</td>\n",
       "      <td>00:05</td>\n",
       "    </tr>\n",
       "  </tbody>\n",
       "</table>"
      ],
      "text/plain": [
       "<IPython.core.display.HTML object>"
      ]
     },
     "metadata": {},
     "output_type": "display_data"
    }
   ],
   "source": [
    "#Fastai model\n",
    "train_data, test_data = train_test_split(df_fastai, test_size = 0.2, random_state = 42)\n",
    "dls = TabularDataLoaders.from_df(df = train_data, bs = 16, y_names = 'price', skipinitialspace = False, cat_names = df_fastai.dtypes[df_fastai.dtypes == 'object'].index.to_list(), cont_names = df_fastai.dtypes[(df_fastai.dtypes == 'int64') | (df_fastai.dtypes == 'float')].index.to_list(), procs = [Categorify, Normalize])\n",
    "learn = tabular_learner(dls = dls, metrics = mae)\n",
    "learn.fit_one_cycle(4)"
   ]
  },
  {
   "cell_type": "code",
   "execution_count": 153,
   "metadata": {},
   "outputs": [
    {
     "data": {
      "text/html": [
       "\n",
       "<style>\n",
       "    /* Turns off some styling */\n",
       "    progress {\n",
       "        /* gets rid of default border in Firefox and Opera. */\n",
       "        border: none;\n",
       "        /* Needs to be in here for Safari polyfill so background images work as expected. */\n",
       "        background-size: auto;\n",
       "    }\n",
       "    progress:not([value]), progress:not([value])::-webkit-progress-bar {\n",
       "        background: repeating-linear-gradient(45deg, #7e7e7e, #7e7e7e 10px, #5c5c5c 10px, #5c5c5c 20px);\n",
       "    }\n",
       "    .progress-bar-interrupted, .progress-bar-interrupted::-webkit-progress-bar {\n",
       "        background: #F44336;\n",
       "    }\n",
       "</style>\n"
      ],
      "text/plain": [
       "<IPython.core.display.HTML object>"
      ]
     },
     "metadata": {},
     "output_type": "display_data"
    },
    {
     "data": {
      "text/html": [],
      "text/plain": [
       "<IPython.core.display.HTML object>"
      ]
     },
     "metadata": {},
     "output_type": "display_data"
    },
    {
     "name": "stdout",
     "output_type": "stream",
     "text": [
      "Mean absolute error of the model in the test dataset is : 0.11611131578683853\n"
     ]
    }
   ],
   "source": [
    "test_dls = dls.test_dl(test_data)\n",
    "preds, targs = learn.get_preds(dl = test_dls)\n",
    "\n",
    "print(f\"Mean absolute error of the model in the test dataset is : { mean_absolute_error(targs, preds)}\")\n"
   ]
  },
  {
   "cell_type": "code",
   "execution_count": 154,
   "metadata": {},
   "outputs": [],
   "source": [
    "pkl.dump(learn, open('./models/fastai_model.pkl', 'wb'))"
   ]
  },
  {
   "cell_type": "code",
   "execution_count": null,
   "metadata": {},
   "outputs": [],
   "source": []
  }
 ],
 "metadata": {
  "kernelspec": {
   "display_name": "Python 3",
   "language": "python",
   "name": "python3"
  },
  "language_info": {
   "codemirror_mode": {
    "name": "ipython",
    "version": 3
   },
   "file_extension": ".py",
   "mimetype": "text/x-python",
   "name": "python",
   "nbconvert_exporter": "python",
   "pygments_lexer": "ipython3",
   "version": "3.12.1"
  }
 },
 "nbformat": 4,
 "nbformat_minor": 2
}
